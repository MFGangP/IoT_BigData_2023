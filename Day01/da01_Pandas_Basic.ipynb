{
 "cells": [
  {
   "cell_type": "markdown",
   "metadata": {},
   "source": [
    "### Pandas 기초\n",
    "\n",
    "#### 판다스란?\n",
    "\n",
    "Virtualenv 모듈 설치\n",
    "\n",
    "```\n",
    "> !pip install virtualenv\n",
    "```"
   ]
  },
  {
   "cell_type": "code",
   "execution_count": 1,
   "metadata": {},
   "outputs": [
    {
     "name": "stdout",
     "output_type": "stream",
     "text": [
      "Collecting virtualenv\n",
      "  Obtaining dependency information for virtualenv from https://files.pythonhosted.org/packages/14/19/e266f07cf55155d5f45170bbe08c486d8a9a9ae17bc8983acb1c019a8dd4/virtualenv-20.24.2-py3-none-any.whl.metadata\n",
      "  Downloading virtualenv-20.24.2-py3-none-any.whl.metadata (4.5 kB)\n",
      "Collecting distlib<1,>=0.3.7 (from virtualenv)\n",
      "  Obtaining dependency information for distlib<1,>=0.3.7 from https://files.pythonhosted.org/packages/43/a0/9ba967fdbd55293bacfc1507f58e316f740a3b231fc00e3d86dc39bc185a/distlib-0.3.7-py2.py3-none-any.whl.metadata\n",
      "  Downloading distlib-0.3.7-py2.py3-none-any.whl.metadata (5.1 kB)\n",
      "Collecting filelock<4,>=3.12.2 (from virtualenv)\n",
      "  Obtaining dependency information for filelock<4,>=3.12.2 from https://files.pythonhosted.org/packages/00/45/ec3407adf6f6b5bf867a4462b2b0af27597a26bd3cd6e2534cb6ab029938/filelock-3.12.2-py3-none-any.whl.metadata\n",
      "  Downloading filelock-3.12.2-py3-none-any.whl.metadata (2.7 kB)\n",
      "Collecting importlib-metadata>=6.6 (from virtualenv)\n",
      "  Obtaining dependency information for importlib-metadata>=6.6 from https://files.pythonhosted.org/packages/ff/94/64287b38c7de4c90683630338cf28f129decbba0a44f0c6db35a873c73c4/importlib_metadata-6.7.0-py3-none-any.whl.metadata\n",
      "  Downloading importlib_metadata-6.7.0-py3-none-any.whl.metadata (4.9 kB)\n",
      "Collecting platformdirs<4,>=3.9.1 (from virtualenv)\n",
      "  Obtaining dependency information for platformdirs<4,>=3.9.1 from https://files.pythonhosted.org/packages/14/51/fe5a0d6ea589f0d4a1b97824fb518962ad48b27cd346dcdfa2405187997a/platformdirs-3.10.0-py3-none-any.whl.metadata\n",
      "  Downloading platformdirs-3.10.0-py3-none-any.whl.metadata (11 kB)\n",
      "Collecting zipp>=0.5 (from importlib-metadata>=6.6->virtualenv)\n",
      "  Downloading zipp-3.15.0-py3-none-any.whl (6.8 kB)\n",
      "Collecting typing-extensions>=3.6.4 (from importlib-metadata>=6.6->virtualenv)\n",
      "  Obtaining dependency information for typing-extensions>=3.6.4 from https://files.pythonhosted.org/packages/ec/6b/63cc3df74987c36fe26157ee12e09e8f9db4de771e0f3404263117e75b95/typing_extensions-4.7.1-py3-none-any.whl.metadata\n",
      "  Downloading typing_extensions-4.7.1-py3-none-any.whl.metadata (3.1 kB)\n",
      "Downloading virtualenv-20.24.2-py3-none-any.whl (3.0 MB)\n",
      "   ---------------------------------------- 0.0/3.0 MB ? eta -:--:--\n",
      "   --------------------- ------------------ 1.6/3.0 MB 51.5 MB/s eta 0:00:01\n",
      "   ---------------------------------------- 3.0/3.0 MB 47.8 MB/s eta 0:00:00\n",
      "Downloading distlib-0.3.7-py2.py3-none-any.whl (468 kB)\n",
      "   ---------------------------------------- 0.0/468.9 kB ? eta -:--:--\n",
      "   --------------------------------------- 468.9/468.9 kB 30.6 MB/s eta 0:00:00\n",
      "Downloading filelock-3.12.2-py3-none-any.whl (10 kB)\n",
      "Downloading importlib_metadata-6.7.0-py3-none-any.whl (22 kB)\n",
      "Downloading platformdirs-3.10.0-py3-none-any.whl (17 kB)\n",
      "Downloading typing_extensions-4.7.1-py3-none-any.whl (33 kB)\n",
      "Installing collected packages: distlib, zipp, typing-extensions, filelock, platformdirs, importlib-metadata, virtualenv\n",
      "Successfully installed distlib-0.3.7 filelock-3.12.2 importlib-metadata-6.7.0 platformdirs-3.10.0 typing-extensions-4.7.1 virtualenv-20.24.2 zipp-3.15.0\n"
     ]
    }
   ],
   "source": [
    "!pip install virtualenv"
   ]
  },
  {
   "cell_type": "markdown",
   "metadata": {},
   "source": [
    "#### 가상환경 설정\n",
    "\n",
    "```\n",
    "> virtualenv da_env\n",
    "```\n",
    "\n",
    "- 주피터 노트북 커널을 da_env(Python 3.11.1)로 변경\n",
    "- ipykernel 설치 (아나콘다, VSCode에서 주피터 노트북 사용시 필수)\n",
    "\n",
    "#### 가상환경 패키지(pip) 확인"
   ]
  },
  {
   "cell_type": "markdown",
   "metadata": {},
   "source": [
    "#### 판다스 설치\n",
    "```\n",
    "!pip install pandas\n",
    "```\n",
    "- Pandas Version: 1.5.3\n",
    "- Numpy Version: 1.24.2\n"
   ]
  },
  {
   "cell_type": "code",
   "execution_count": 1,
   "metadata": {},
   "outputs": [
    {
     "name": "stdout",
     "output_type": "stream",
     "text": [
      "Collecting Numpy\n",
      "  Downloading numpy-1.25.2-cp311-cp311-win_amd64.whl (15.5 MB)\n",
      "     ---------------------------------------- 0.0/15.5 MB ? eta -:--:--\n",
      "     ---- ----------------------------------- 1.8/15.5 MB 37.7 MB/s eta 0:00:01\n",
      "     ---------------- ----------------------- 6.3/15.5 MB 67.1 MB/s eta 0:00:01\n",
      "     ---------------------------- ---------- 11.2/15.5 MB 93.0 MB/s eta 0:00:01\n",
      "     ----------------------------------- -- 14.7/15.5 MB 108.8 MB/s eta 0:00:01\n",
      "     ----------------------------------- -- 14.7/15.5 MB 108.8 MB/s eta 0:00:01\n",
      "     ----------------------------------- -- 14.7/15.5 MB 108.8 MB/s eta 0:00:01\n",
      "     ----------------------------------- -- 14.7/15.5 MB 108.8 MB/s eta 0:00:01\n",
      "     --------------------------------------  15.5/15.5 MB 36.4 MB/s eta 0:00:01\n",
      "     --------------------------------------  15.5/15.5 MB 36.4 MB/s eta 0:00:01\n",
      "     --------------------------------------- 15.5/15.5 MB 29.7 MB/s eta 0:00:00\n",
      "Installing collected packages: Numpy\n",
      "Successfully installed Numpy-1.25.2\n"
     ]
    },
    {
     "name": "stderr",
     "output_type": "stream",
     "text": [
      "\n",
      "[notice] A new release of pip is available: 23.0 -> 23.2.1\n",
      "[notice] To update, run: python.exe -m pip install --upgrade pip\n"
     ]
    }
   ],
   "source": [
    "!pip install Numpy"
   ]
  },
  {
   "cell_type": "code",
   "execution_count": 2,
   "metadata": {},
   "outputs": [
    {
     "name": "stdout",
     "output_type": "stream",
     "text": [
      "Collecting pandas\n",
      "  Downloading pandas-2.0.3-cp311-cp311-win_amd64.whl (10.6 MB)\n",
      "     ---------------------------------------- 0.0/10.6 MB ? eta -:--:--\n",
      "     ----- ---------------------------------- 1.4/10.6 MB 29.8 MB/s eta 0:00:01\n",
      "     ----------------- ---------------------- 4.6/10.6 MB 49.2 MB/s eta 0:00:01\n",
      "     -------------------- ------------------- 5.5/10.6 MB 39.0 MB/s eta 0:00:01\n",
      "     ------------------------------------ -- 10.1/10.6 MB 53.7 MB/s eta 0:00:01\n",
      "     --------------------------------------- 10.6/10.6 MB 50.1 MB/s eta 0:00:00\n",
      "Requirement already satisfied: python-dateutil>=2.8.2 in c:\\source\\iot_bigdata_2023\\da_env\\lib\\site-packages (from pandas) (2.8.2)\n",
      "Collecting pytz>=2020.1\n",
      "  Downloading pytz-2023.3-py2.py3-none-any.whl (502 kB)\n",
      "     ---------------------------------------- 0.0/502.3 kB ? eta -:--:--\n",
      "     ------------------------------------- 502.3/502.3 kB 30.8 MB/s eta 0:00:00\n",
      "Collecting tzdata>=2022.1\n",
      "  Downloading tzdata-2023.3-py2.py3-none-any.whl (341 kB)\n",
      "     ---------------------------------------- 0.0/341.8 kB ? eta -:--:--\n",
      "     ---------------------------------------- 341.8/341.8 kB ? eta 0:00:00\n",
      "Requirement already satisfied: numpy>=1.21.0 in c:\\source\\iot_bigdata_2023\\da_env\\lib\\site-packages (from pandas) (1.25.2)\n",
      "Requirement already satisfied: six>=1.5 in c:\\source\\iot_bigdata_2023\\da_env\\lib\\site-packages (from python-dateutil>=2.8.2->pandas) (1.16.0)\n",
      "Installing collected packages: pytz, tzdata, pandas\n",
      "Successfully installed pandas-2.0.3 pytz-2023.3 tzdata-2023.3\n"
     ]
    },
    {
     "name": "stderr",
     "output_type": "stream",
     "text": [
      "\n",
      "[notice] A new release of pip is available: 23.0 -> 23.2.1\n",
      "[notice] To update, run: python.exe -m pip install --upgrade pip\n"
     ]
    }
   ],
   "source": [
    "!pip install pandas"
   ]
  },
  {
   "cell_type": "code",
   "execution_count": 3,
   "metadata": {},
   "outputs": [
    {
     "name": "stdout",
     "output_type": "stream",
     "text": [
      "Name: pandas\n",
      "Version: 2.0.3\n",
      "Summary: Powerful data structures for data analysis, time series, and statistics\n",
      "Home-page: \n",
      "Author: \n",
      "Author-email: The Pandas Development Team <pandas-dev@python.org>\n",
      "License: BSD 3-Clause License\n",
      "\n",
      "Copyright (c) 2008-2011, AQR Capital Management, LLC, Lambda Foundry, Inc. and PyData Development Team\n",
      "All rights reserved.\n",
      "\n",
      "Copyright (c) 2011-2023, Open source contributors.\n",
      "\n",
      "Redistribution and use in source and binary forms, with or without\n",
      "modification, are permitted provided that the following conditions are met:\n",
      "\n",
      "* Redistributions of source code must retain the above copyright notice, this\n",
      "  list of conditions and the following disclaimer.\n",
      "\n",
      "* Redistributions in binary form must reproduce the above copyright notice,\n",
      "  this list of conditions and the following disclaimer in the documentation\n",
      "  and/or other materials provided with the distribution.\n",
      "\n",
      "* Neither the name of the copyright holder nor the names of its\n",
      "  contributors may be used to endorse or promote products derived from\n",
      "  this software without specific prior written permission.\n",
      "\n",
      "THIS SOFTWARE IS PROVIDED BY THE COPYRIGHT HOLDERS AND CONTRIBUTORS \"AS IS\"\n",
      "AND ANY EXPRESS OR IMPLIED WARRANTIES, INCLUDING, BUT NOT LIMITED TO, THE\n",
      "IMPLIED WARRANTIES OF MERCHANTABILITY AND FITNESS FOR A PARTICULAR PURPOSE ARE\n",
      "DISCLAIMED. IN NO EVENT SHALL THE COPYRIGHT HOLDER OR CONTRIBUTORS BE LIABLE\n",
      "FOR ANY DIRECT, INDIRECT, INCIDENTAL, SPECIAL, EXEMPLARY, OR CONSEQUENTIAL\n",
      "DAMAGES (INCLUDING, BUT NOT LIMITED TO, PROCUREMENT OF SUBSTITUTE GOODS OR\n",
      "SERVICES; LOSS OF USE, DATA, OR PROFITS; OR BUSINESS INTERRUPTION) HOWEVER\n",
      "CAUSED AND ON ANY THEORY OF LIABILITY, WHETHER IN CONTRACT, STRICT LIABILITY,\n",
      "OR TORT (INCLUDING NEGLIGENCE OR OTHERWISE) ARISING IN ANY WAY OUT OF THE USE\n",
      "OF THIS SOFTWARE, EVEN IF ADVISED OF THE POSSIBILITY OF SUCH DAMAGE.\n",
      "\n",
      "Location: C:\\Source\\IoT_BigData_2023\\da_env\\Lib\\site-packages\n",
      "Requires: numpy, numpy, python-dateutil, pytz, tzdata\n",
      "Required-by: \n"
     ]
    }
   ],
   "source": [
    "!pip show Pandas"
   ]
  },
  {
   "cell_type": "code",
   "execution_count": 4,
   "metadata": {},
   "outputs": [
    {
     "name": "stdout",
     "output_type": "stream",
     "text": [
      "Name: numpy\n",
      "Version: 1.25.2\n",
      "Summary: Fundamental package for array computing in Python\n",
      "Home-page: https://www.numpy.org\n",
      "Author: Travis E. Oliphant et al.\n",
      "Author-email: \n",
      "License: BSD-3-Clause\n",
      "Location: C:\\Source\\IoT_BigData_2023\\da_env\\Lib\\site-packages\n",
      "Requires: \n",
      "Required-by: pandas\n"
     ]
    }
   ],
   "source": [
    "!pip show numpy"
   ]
  },
  {
   "cell_type": "code",
   "execution_count": null,
   "metadata": {},
   "outputs": [],
   "source": []
  },
  {
   "cell_type": "markdown",
   "metadata": {},
   "source": [
    "#### 판다스 기초\n",
    "\n",
    "##### 개요\n",
    "\n",
    "엑셀과 거의 동일한 테이블 형태로 데이터를 핸들링 할 수 있는 파이썬 모듈\n",
    "\n",
    "데이터 분석을 위한 추상 자료구조(DataFrame!!)을 제공하는 데이터 분석도구\n",
    "\n",
    "###### 기본 기능 \n",
    "- 엑셀/CSV/Json 등 데이터 파일에서 데이터 읽어오기 -> 파이썬 메모리 상에 로드\n",
    "- 데이터 처리 \n",
    "- 엑셀/CSV/Json 등 데이터 파일에 저장\n",
    "\n",
    "###### Pandas 용어\n",
    "- Series, DataFrame\n",
    "- Index, Colums, Values, etc\n"
   ]
  },
  {
   "cell_type": "markdown",
   "metadata": {},
   "source": [
    "#### 판다스 학습 시작!\n",
    "\n",
    "##### 시리즈\n",
    "\n",
    "판다스에서 1차원 배열과 똑같은 자료형(데이터 타입)\n",
    "\n",
    "<img src=\"https://velog.velcdn.com/images%2Fgjtjsdn1%2Fpost%2F41aab35d-d5bc-4a3f-b0fa-1c8770bf2eb9%2Fimage.png\" width=\"500\">\n",
    "\n",
    "##### 판다스 모듈 import\n",
    "```python\n",
    "import pandas as pd\n",
    "```"
   ]
  },
  {
   "cell_type": "code",
   "execution_count": 9,
   "metadata": {},
   "outputs": [],
   "source": [
    "import pandas as pd"
   ]
  },
  {
   "cell_type": "markdown",
   "metadata": {},
   "source": [
    "##### 시리즈 생성\n",
    "\n",
    "<img src=\"https://img1.daumcdn.net/thumb/R1280x0/?scode=mtistory2&fname=https%3A%2F%2Ft1.daumcdn.net%2Fcfile%2Ftistory%2F995809335BFBCC922B\" width=\"500\">"
   ]
  },
  {
   "cell_type": "code",
   "execution_count": 12,
   "metadata": {},
   "outputs": [
    {
     "data": {
      "text/plain": [
       "이름    홍길동\n",
       "국어     90\n",
       "영어     50\n",
       "수학     75\n",
       "미술    100\n",
       "Name: 기말고사 점수, dtype: object"
      ]
     },
     "execution_count": 12,
     "metadata": {},
     "output_type": "execute_result"
    }
   ],
   "source": [
    "grade = pd.Series(data=['홍길동', 90, 50, 75, 100], index=['이름', '국어', '영어', '수학', '미술'], name='기말고사 점수')\n",
    "grade"
   ]
  },
  {
   "cell_type": "code",
   "execution_count": 13,
   "metadata": {},
   "outputs": [
    {
     "data": {
      "text/plain": [
       "array(['홍길동', 90, 50, 75, 100], dtype=object)"
      ]
     },
     "execution_count": 13,
     "metadata": {},
     "output_type": "execute_result"
    }
   ],
   "source": [
    "grade.values"
   ]
  },
  {
   "cell_type": "code",
   "execution_count": 14,
   "metadata": {},
   "outputs": [
    {
     "data": {
      "text/plain": [
       "Index(['이름', '국어', '영어', '수학', '미술'], dtype='object')"
      ]
     },
     "execution_count": 14,
     "metadata": {},
     "output_type": "execute_result"
    }
   ],
   "source": [
    "grade.index"
   ]
  },
  {
   "cell_type": "code",
   "execution_count": 15,
   "metadata": {},
   "outputs": [
    {
     "data": {
      "text/plain": [
       "'기말고사 점수'"
      ]
     },
     "execution_count": 15,
     "metadata": {},
     "output_type": "execute_result"
    }
   ],
   "source": [
    "grade.name"
   ]
  },
  {
   "cell_type": "markdown",
   "metadata": {},
   "source": [
    "##### Pandas 시리즈 타입으로 전환\n",
    "\n",
    "- 리스트 -> pd.Series(data=[])\n",
    "- 딕셔너리 { 'key' : 'value' } -> pd.Series(data={})"
   ]
  },
  {
   "cell_type": "code",
   "execution_count": 16,
   "metadata": {},
   "outputs": [
    {
     "data": {
      "text/plain": [
       "dict"
      ]
     },
     "execution_count": 16,
     "metadata": {},
     "output_type": "execute_result"
    }
   ],
   "source": [
    "gilsun_data = {'이름' : '홍길순' , '국어' : 100, '영어' : 100, '수학' : 100, '미술' : 40 }\n",
    "type(gilsun_data)"
   ]
  },
  {
   "cell_type": "code",
   "execution_count": 18,
   "metadata": {},
   "outputs": [
    {
     "data": {
      "text/plain": [
       "이름    홍길순\n",
       "국어    100\n",
       "영어    100\n",
       "수학    100\n",
       "미술     40\n",
       "dtype: object"
      ]
     },
     "execution_count": 18,
     "metadata": {},
     "output_type": "execute_result"
    }
   ],
   "source": [
    "grade2 = pd.Series(data=gilsun_data)\n",
    "grade2"
   ]
  },
  {
   "cell_type": "code",
   "execution_count": 20,
   "metadata": {},
   "outputs": [
    {
     "data": {
      "text/plain": [
       "pandas.core.series.Series"
      ]
     },
     "execution_count": 20,
     "metadata": {},
     "output_type": "execute_result"
    }
   ],
   "source": [
    "type(grade2)"
   ]
  },
  {
   "cell_type": "markdown",
   "metadata": {},
   "source": [
    "# 중요!\n",
    "\n",
    "None(==Null), NaN -> 결측치라 부르고 결측치가 있으면 데이터 분석이 부정확, 정합성이 떨어진다."
   ]
  },
  {
   "cell_type": "code",
   "execution_count": 22,
   "metadata": {},
   "outputs": [
    {
     "data": {
      "text/plain": [
       "이름      유고\n",
       "국어    None\n",
       "영어      10\n",
       "수학       0\n",
       "      None\n",
       "dtype: object"
      ]
     },
     "execution_count": 22,
     "metadata": {},
     "output_type": "execute_result"
    }
   ],
   "source": [
    "# (빅)데이터 분석에서 가장 조심해야할 것, None(결측치) \n",
    "grade3 = pd.Series(data=['유고', None, 10, 0, None], index=['이름', '국어', '영어', '수학', ''])\n",
    "grade3"
   ]
  },
  {
   "cell_type": "markdown",
   "metadata": {},
   "source": [
    "#### 재색인\n",
    "\n",
    "결측치가 있거나 인덱스가 잘못되었을 때 다시 정립하는 작업"
   ]
  },
  {
   "cell_type": "code",
   "execution_count": 26,
   "metadata": {},
   "outputs": [
    {
     "data": {
      "text/plain": [
       "이름      유고\n",
       "국어    None\n",
       "영어      10\n",
       "수학       0\n",
       "      None\n",
       "dtype: object"
      ]
     },
     "execution_count": 26,
     "metadata": {},
     "output_type": "execute_result"
    }
   ],
   "source": [
    "grade3.reindex(index=['이름', '국어', '영어', '수학'])\n",
    "grade3"
   ]
  },
  {
   "cell_type": "code",
   "execution_count": 27,
   "metadata": {},
   "outputs": [
    {
     "data": {
      "text/plain": [
       "이름      유고\n",
       "국어    None\n",
       "영어      10\n",
       "수학       0\n",
       "dtype: object"
      ]
     },
     "execution_count": 27,
     "metadata": {},
     "output_type": "execute_result"
    }
   ],
   "source": [
    "grade4 = grade3.reindex(index=['이름', '국어', '영어', '수학'])\n",
    "grade4"
   ]
  },
  {
   "cell_type": "markdown",
   "metadata": {},
   "source": [
    "##### 결측치 없애기\n",
    "- reindex() 메서드 fill_value 속성 = None, NaN이 동시에 처리 안됨\n",
    "- 만들어진 시리즈 fillna(0) - None, NaN 동시에 처리된다.\n",
    "\n",
    "##### inplace!\n",
    "- 지금 내가 처리하는 기능으로 값을 완전 대체해줌(commit 동일)"
   ]
  },
  {
   "cell_type": "code",
   "execution_count": 33,
   "metadata": {},
   "outputs": [
    {
     "data": {
      "text/plain": [
       "이름    유고\n",
       "국어     0\n",
       "영어    10\n",
       "수학     0\n",
       "미술     0\n",
       "dtype: object"
      ]
     },
     "execution_count": 33,
     "metadata": {},
     "output_type": "execute_result"
    }
   ],
   "source": [
    "# 결측치 없애기\n",
    "grade5 = grade3.reindex(index=['이름', '국어', '영어', '수학','미술'], fill_value=0)\n",
    "grade5.fillna(0)"
   ]
  },
  {
   "cell_type": "code",
   "execution_count": 34,
   "metadata": {},
   "outputs": [
    {
     "data": {
      "text/plain": [
       "이름      유고\n",
       "국어    None\n",
       "영어      10\n",
       "수학       0\n",
       "미술       0\n",
       "dtype: object"
      ]
     },
     "execution_count": 34,
     "metadata": {},
     "output_type": "execute_result"
    }
   ],
   "source": [
    "grade5"
   ]
  },
  {
   "cell_type": "code",
   "execution_count": 36,
   "metadata": {},
   "outputs": [
    {
     "data": {
      "text/plain": [
       "이름    유고\n",
       "국어     0\n",
       "영어    10\n",
       "수학     0\n",
       "미술     0\n",
       "dtype: object"
      ]
     },
     "execution_count": 36,
     "metadata": {},
     "output_type": "execute_result"
    }
   ],
   "source": [
    "grade5.fillna(0, inplace=True)\n",
    "grade5"
   ]
  },
  {
   "cell_type": "markdown",
   "metadata": {},
   "source": [
    "#### 이름변경\n",
    "\n",
    "인덱스의 이름을 변경해주는 기능"
   ]
  },
  {
   "cell_type": "code",
   "execution_count": 42,
   "metadata": {},
   "outputs": [
    {
     "data": {
      "text/plain": [
       "Name         유고\n",
       "Korean     None\n",
       "English      10\n",
       "Math          0\n",
       "Art        None\n",
       "dtype: object"
      ]
     },
     "execution_count": 42,
     "metadata": {},
     "output_type": "execute_result"
    }
   ],
   "source": [
    "grade3.rename({'이름' : 'Name', '국어' : 'Korean', '영어' : 'English', '수학' : 'Math', '' : 'Art'}, inplace=True)\n",
    "grade3"
   ]
  },
  {
   "cell_type": "markdown",
   "metadata": {},
   "source": [
    "##### Pandas 시리즈 요소 제어\n",
    "\n",
    "파이썬 리스트(배열) 요소 접근 방법과 유사"
   ]
  },
  {
   "cell_type": "code",
   "execution_count": 45,
   "metadata": {},
   "outputs": [
    {
     "data": {
      "text/plain": [
       "'홍길동'"
      ]
     },
     "execution_count": 45,
     "metadata": {},
     "output_type": "execute_result"
    }
   ],
   "source": [
    "grade[0]"
   ]
  },
  {
   "cell_type": "code",
   "execution_count": 46,
   "metadata": {},
   "outputs": [
    {
     "data": {
      "text/plain": [
       "'홍길동'"
      ]
     },
     "execution_count": 46,
     "metadata": {},
     "output_type": "execute_result"
    }
   ],
   "source": [
    "grade['이름']"
   ]
  },
  {
   "cell_type": "code",
   "execution_count": 49,
   "metadata": {},
   "outputs": [
    {
     "name": "stdout",
     "output_type": "stream",
     "text": [
      "50\n",
      "50\n"
     ]
    }
   ],
   "source": [
    "print(grade[2])\n",
    "print(grade['영어'])"
   ]
  },
  {
   "cell_type": "code",
   "execution_count": 51,
   "metadata": {},
   "outputs": [
    {
     "data": {
      "text/plain": [
       "50"
      ]
     },
     "execution_count": 51,
     "metadata": {},
     "output_type": "execute_result"
    }
   ],
   "source": [
    "# 로케이션 속성, 현재 지정된 인덱스 명으로 찾음. 숫자는 안됨\n",
    "grade.loc['영어']"
   ]
  },
  {
   "cell_type": "markdown",
   "metadata": {},
   "source": [
    "##### 시리즈에서 인덱스를 변경\n",
    "\n",
    "변경된 데이터만 임시 출력"
   ]
  },
  {
   "cell_type": "code",
   "execution_count": 54,
   "metadata": {},
   "outputs": [
    {
     "data": {
      "text/plain": [
       "이름    홍길동\n",
       "미술    100\n",
       "Name: 기말고사 점수, dtype: object"
      ]
     },
     "execution_count": 54,
     "metadata": {},
     "output_type": "execute_result"
    }
   ],
   "source": [
    "grade[['이름', '미술']]"
   ]
  },
  {
   "cell_type": "code",
   "execution_count": 56,
   "metadata": {},
   "outputs": [
    {
     "data": {
      "text/plain": [
       "이름    홍길동\n",
       "미술    100\n",
       "Name: 기말고사 점수, dtype: object"
      ]
     },
     "execution_count": 56,
     "metadata": {},
     "output_type": "execute_result"
    }
   ],
   "source": [
    "grade.reindex(index=['이름', '미술'])"
   ]
  },
  {
   "cell_type": "code",
   "execution_count": 57,
   "metadata": {},
   "outputs": [
    {
     "data": {
      "text/plain": [
       "이름    홍길동\n",
       "국어     90\n",
       "영어     50\n",
       "수학     75\n",
       "미술    100\n",
       "Name: 기말고사 점수, dtype: object"
      ]
     },
     "execution_count": 57,
     "metadata": {},
     "output_type": "execute_result"
    }
   ],
   "source": [
    "grade"
   ]
  },
  {
   "cell_type": "code",
   "execution_count": 59,
   "metadata": {},
   "outputs": [
    {
     "data": {
      "text/plain": [
       "이름    False\n",
       "국어    False\n",
       "영어    False\n",
       "수학    False\n",
       "미술    False\n",
       "Name: 기말고사 점수, dtype: bool"
      ]
     },
     "execution_count": 59,
     "metadata": {},
     "output_type": "execute_result"
    }
   ],
   "source": [
    "grade.isnull()"
   ]
  },
  {
   "cell_type": "code",
   "execution_count": 61,
   "metadata": {},
   "outputs": [
    {
     "data": {
      "text/plain": [
       "이름    False\n",
       "국어    False\n",
       "영어    False\n",
       "수학    False\n",
       "미술    False\n",
       "dtype: bool"
      ]
     },
     "execution_count": 61,
     "metadata": {},
     "output_type": "execute_result"
    }
   ],
   "source": [
    "grade2.isnull()"
   ]
  },
  {
   "cell_type": "code",
   "execution_count": 63,
   "metadata": {},
   "outputs": [
    {
     "data": {
      "text/plain": [
       "Name       False\n",
       "Korean      True\n",
       "English    False\n",
       "Math       False\n",
       "Art         True\n",
       "dtype: bool"
      ]
     },
     "execution_count": 63,
     "metadata": {},
     "output_type": "execute_result"
    }
   ],
   "source": [
    "grade3.isnull()"
   ]
  },
  {
   "cell_type": "code",
   "execution_count": 65,
   "metadata": {},
   "outputs": [
    {
     "data": {
      "text/plain": [
       "Name        True\n",
       "Korean     False\n",
       "English     True\n",
       "Math        True\n",
       "Art        False\n",
       "dtype: bool"
      ]
     },
     "execution_count": 65,
     "metadata": {},
     "output_type": "execute_result"
    }
   ],
   "source": [
    "grade3.notnull()"
   ]
  },
  {
   "cell_type": "code",
   "execution_count": null,
   "metadata": {},
   "outputs": [],
   "source": []
  }
 ],
 "metadata": {
  "kernelspec": {
   "display_name": "Python 3",
   "language": "python",
   "name": "python3"
  },
  "language_info": {
   "codemirror_mode": {
    "name": "ipython",
    "version": 3
   },
   "file_extension": ".py",
   "mimetype": "text/x-python",
   "name": "python",
   "nbconvert_exporter": "python",
   "pygments_lexer": "ipython3",
   "version": "3.11.3"
  },
  "orig_nbformat": 4
 },
 "nbformat": 4,
 "nbformat_minor": 2
}
